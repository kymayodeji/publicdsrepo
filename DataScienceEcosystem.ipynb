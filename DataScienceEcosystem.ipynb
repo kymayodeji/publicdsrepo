{
 "cells": [
  {
   "cell_type": "markdown",
   "id": "a0b724ea",
   "metadata": {},
   "source": [
    "# Data Science Tools and Ecosystem"
   ]
  },
  {
   "cell_type": "markdown",
   "id": "5dac7268",
   "metadata": {},
   "source": [
    "In this notebook, Data Science Tools and Ecosystem are summarized"
   ]
  },
  {
   "cell_type": "markdown",
   "id": "b6c1ee09",
   "metadata": {},
   "source": [
    "**Objectives**\n",
    "* List popular languages for Data Science\n",
    "* List popular packages and libraries for Data Science\n",
    "* List popular data asset management for Data Science\n",
    "* List popular execution environments for Data Science\n",
    "* list pouplar development environments for Data Science"
   ]
  },
  {
   "cell_type": "markdown",
   "id": "f666776d",
   "metadata": {},
   "source": [
    "Some of the popular languages hat Data Scientists uses are:\n",
    "1. Python\n",
    "2. R\n",
    "3. SQL\n",
    "4. JAVA\n",
    "5. Scala"
   ]
  },
  {
   "cell_type": "markdown",
   "id": "60048177",
   "metadata": {},
   "source": [
    "Some of the commonly used libraries used by Data Scientists include: \n",
    "* numpy\n",
    "* scikitlearn\n",
    "* dplyr\n",
    "* ggplot\n",
    "* caret"
   ]
  },
  {
   "cell_type": "markdown",
   "id": "5f55cb15",
   "metadata": {},
   "source": [
    "| Data Science Tools |\n",
    "|--------------------|\n",
    "| Jupyter Notebooks |\n",
    "| Visual Studio Code |\n",
    "| IBM Watston Studio | "
   ]
  },
  {
   "cell_type": "markdown",
   "id": "82a8fdbb",
   "metadata": {},
   "source": [
    "### Below are a few examples of evaluating arithmetic expressions in Python"
   ]
  },
  {
   "cell_type": "code",
   "execution_count": 1,
   "id": "92e2b881",
   "metadata": {},
   "outputs": [
    {
     "data": {
      "text/plain": [
       "17"
      ]
     },
     "execution_count": 1,
     "metadata": {},
     "output_type": "execute_result"
    }
   ],
   "source": [
    "# This is a simple arithmetic expression to multiply then add integers\n",
    "(3*4)+5"
   ]
  },
  {
   "cell_type": "code",
   "execution_count": 2,
   "id": "94b8c440",
   "metadata": {},
   "outputs": [
    {
     "data": {
      "text/plain": [
       "3.3333333333333335"
      ]
     },
     "execution_count": 2,
     "metadata": {},
     "output_type": "execute_result"
    }
   ],
   "source": [
    "# This will convert 200 minutes to hours by dividing by 60\n",
    "200/60"
   ]
  },
  {
   "cell_type": "markdown",
   "id": "75e23aff",
   "metadata": {},
   "source": [
    "## Author\n",
    "Kymberly Ayodeji"
   ]
  },
  {
   "cell_type": "code",
   "execution_count": null,
   "id": "45bc49cd",
   "metadata": {},
   "outputs": [],
   "source": []
  }
 ],
 "metadata": {
  "kernelspec": {
   "display_name": "Python 3 (ipykernel)",
   "language": "python",
   "name": "python3"
  },
  "language_info": {
   "codemirror_mode": {
    "name": "ipython",
    "version": 3
   },
   "file_extension": ".py",
   "mimetype": "text/x-python",
   "name": "python",
   "nbconvert_exporter": "python",
   "pygments_lexer": "ipython3",
   "version": "3.10.11"
  }
 },
 "nbformat": 4,
 "nbformat_minor": 5
}
